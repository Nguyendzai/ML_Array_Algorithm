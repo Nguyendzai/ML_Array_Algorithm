{
 "cells": [
  {
   "cell_type": "code",
   "metadata": {
    "ExecuteTime": {
     "end_time": "2024-05-14T16:06:00.752890Z",
     "start_time": "2024-05-14T16:04:05.989448Z"
    }
   },
   "source": [
    "import os\n",
    "import scipy.io\n",
    "import numpy as np\n",
    "import pandas as pd\n",
    "from statistics import mode\n",
    "\n",
    "path = \"./PIR_DATASET/testing_data\"\n",
    "\n",
    "# Initialize an empty list to store data\n",
    "data_list = []\n",
    "\n",
    "# Loop through files in the specified folder\n",
    "for filename in os.listdir(path):\n",
    "    # Check if the file is a regular file\n",
    "    if os.path.isfile(os.path.join(path, filename)):\n",
    "        # Extract file name without extension\n",
    "        mat_file_name = os.path.splitext(filename)[0]\n",
    "\n",
    "        # Load data from the .mat file\n",
    "        data = scipy.io.loadmat(os.path.join(path, filename))\n",
    "\n",
    "        # Extract data and process\n",
    "        for sample_idx in range(len(data['testing_data'])):\n",
    "            x = data['testing_data'][sample_idx, 0]\n",
    "            y = data['testing_data'][sample_idx, 1]\n",
    "\n",
    "            # Define parameters\n",
    "            s = 5\n",
    "            length = 10\n",
    "            stand = 2\n",
    "\n",
    "            for sensor_idx in range(len(x[0])):\n",
    "                start = 0\n",
    "                end = start + length\n",
    "                while start < len(x[0, :]):\n",
    "                    x_str = []\n",
    "                    x_str_len = len(x[0, start:end])\n",
    "                    if x_str_len < length:\n",
    "                        for sensor in range(s):\n",
    "                            x_str.append(\"[\" + \",\".join(map(str, x[sensor, start:end])) + \",\" +\n",
    "                                         \",\".join(map(str, np.zeros(length - x_str_len) + stand)) + \"]\")\n",
    "                    else:\n",
    "                        for sensor in range(s):\n",
    "                            x_str.append(\"[\" + \",\".join(map(str, x[sensor, start:end])) + \"]\")\n",
    "                    y_str = mode(y[0, start:end].tolist())\n",
    "                    start += 10\n",
    "                    end += 10\n",
    "\n",
    "                    # Append data to the list\n",
    "                    data_list.append({'x1': x_str[0], 'x2': x_str[1], 'x3': x_str[2], 'x4': x_str[3], 'x5': x_str[4],\n",
    "                                      'y': y_str})\n",
    "\n",
    "# Convert the list of dictionaries to a DataFrame\n",
    "df = pd.DataFrame(data_list)\n",
    "\n",
    "# Write DataFrame to CSV file\n",
    "df.to_csv('data_testing_2.csv', index=False)"
   ],
   "outputs": [],
   "execution_count": 3
  },
  {
   "cell_type": "code",
   "metadata": {},
   "source": [],
   "outputs": [],
   "execution_count": null
  }
 ],
 "metadata": {
  "kernelspec": {
   "display_name": "d2l",
   "language": "python",
   "name": "python3"
  },
  "language_info": {
   "codemirror_mode": {
    "name": "ipython",
    "version": 3
   },
   "file_extension": ".py",
   "mimetype": "text/x-python",
   "name": "python",
   "nbconvert_exporter": "python",
   "pygments_lexer": "ipython3",
   "version": "3.9.19"
  }
 },
 "nbformat": 4,
 "nbformat_minor": 2
}
