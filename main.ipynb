{
 "cells": [
  {
   "cell_type": "code",
   "execution_count": 1,
   "id": "68fec58d",
   "metadata": {
    "ExecuteTime": {
     "end_time": "2024-05-16T15:42:28.335702Z",
     "start_time": "2024-05-16T15:42:26.531568Z"
    }
   },
   "outputs": [],
   "source": [
    "import torch\n",
    "import torch.nn as nn\n",
    "import torch.optim as optim\n",
    "import pandas as pd\n",
    "import torch.utils.data as data\n"
   ]
  },
  {
   "cell_type": "code",
   "execution_count": 2,
   "id": "07806cea",
   "metadata": {
    "ExecuteTime": {
     "end_time": "2024-05-16T15:42:29.451923Z",
     "start_time": "2024-05-16T15:42:28.337215Z"
    }
   },
   "outputs": [
    {
     "name": "stdout",
     "output_type": "stream",
     "text": [
      "cuda\n"
     ]
    }
   ],
   "source": [
    "device = torch.device(\"cuda\" if torch.cuda.is_available() else \"cpu\")\n",
    "print(device)"
   ]
  },
  {
   "cell_type": "markdown",
   "id": "fd788571",
   "metadata": {},
   "source": [
    "### Lấy dữ liệu và kiểm tra"
   ]
  },
  {
   "cell_type": "code",
   "execution_count": 3,
   "id": "d464ddc00425cac5",
   "metadata": {
    "ExecuteTime": {
     "end_time": "2024-05-16T15:42:34.060936Z",
     "start_time": "2024-05-16T15:42:29.459250Z"
    }
   },
   "outputs": [
    {
     "name": "stdout",
     "output_type": "stream",
     "text": [
      "x_train: torch.Size([26846, 5, 10])\n",
      "y_train: torch.Size([26846])\n"
     ]
    }
   ],
   "source": [
    "import ast\n",
    "# Đọc dữ liệu từ file CSV\n",
    "#df_train = pd.read_csv('result.csv')\n",
    "df_train = pd.read_csv('Data_training.csv')\n",
    "\n",
    "\n",
    "# Chọn các cột 'x1', 'x2', 'x3', 'x4', 'x5' làm đầu vào và 'y' làm đầu ra\n",
    "x_train_data = df_train[['x1', 'x2', 'x3', 'x4', 'x5']]\n",
    "y_train_data = df_train['y']\n",
    "\n",
    "# Khởi tạo danh sách để lưu trữ dữ liệu đầu vào dưới dạng tensors\n",
    "x_train = []\n",
    "\n",
    "# Lặp qua từng hàng trong x_data\n",
    "for index in range(len(x_train_data)):\n",
    "    # Lấy hàng thứ index từ DataFrame\n",
    "    row = x_train_data.iloc[index]\n",
    "    # Chuyển đổi từng giá trị trong hàng thành list\n",
    "    x_values = [ast.literal_eval(val) for val in row.values]\n",
    "    # Thêm tensor tương ứng vào danh sách x_train\n",
    "    x_train.append(torch.tensor(x_values, dtype=torch.float32))\n",
    "\n",
    "# Chuyển đổi dữ liệu đầu ra thành tensor PyTorch\n",
    "y_train = torch.tensor(y_train_data.values, dtype=torch.long).to(device)\n",
    "\n",
    "# Tạo tensor từ danh sách các tensors đầu vào\n",
    "X_train = torch.stack(x_train).to(device)\n",
    "\n",
    "# In ra kích thước của tensors đầu vào và đầu ra\n",
    "print(\"x_train:\", X_train.shape)\n",
    "print(\"y_train:\", y_train.shape)"
   ]
  },
  {
   "cell_type": "code",
   "execution_count": 4,
   "id": "3842a12c614bdfd5",
   "metadata": {
    "ExecuteTime": {
     "end_time": "2024-05-16T15:42:34.262498Z",
     "start_time": "2024-05-16T15:42:34.062977Z"
    }
   },
   "outputs": [],
   "source": [
    "# # Đọc dữ liệu từ file CSV cho tập kiểm tra\n",
    "# df_test = pd.read_csv('data_testing_v3.csv')\n",
    "    \n",
    "# # Chọn các cột 'x1', 'x2', 'x3', 'x4', 'x5' làm đầu vào và 'y' làm đầu ra\n",
    "# x_test_data = df_test[['x1', 'x2', 'x3', 'x4', 'x5']]\n",
    "# y_test_data = df_test['y']\n",
    "\n",
    "# # Khởi tạo danh sách để lưu trữ dữ liệu đầu vào dưới dạng tensors\n",
    "# x_test = []\n",
    "\n",
    "# # Lặp qua từng hàng trong x_test_data\n",
    "# for index in range(len(x_test_data)):\n",
    "#     # Lấy hàng thứ index từ DataFrame\n",
    "#     row = x_test_data.iloc[index]\n",
    "#     # Chuyển đổi từng giá trị trong hàng thành list\n",
    "#     x_values = [ast.literal_eval(val) for val in row.values]\n",
    "#     # Thêm tensor tương ứng vào danh sách x_test\n",
    "#     x_test.append(torch.tensor(x_values, dtype=torch.float32))\n",
    "\n",
    "# # Chuyển đổi dữ liệu đầu ra thành tensor PyTorch\n",
    "# y_test = torch.tensor(y_test_data.values, dtype=torch.long).to(device)\n",
    "\n",
    "# # Tạo tensor từ danh sách các tensors đầu vào\n",
    "# X_test = torch.stack(x_test).to(device)\n",
    "\n",
    "# # In ra kích thước của tensors đầu vào và đầu ra\n",
    "# print(\"x_test:\", X_test.shape)\n",
    "# print(\"y_test:\", y_test.shape)"
   ]
  },
  {
   "cell_type": "markdown",
   "id": "fe6445fd",
   "metadata": {},
   "source": [
    "### Định nghĩa các biến và tạo tập train và test"
   ]
  },
  {
   "cell_type": "code",
   "execution_count": 5,
   "id": "1d2fd7f1",
   "metadata": {
    "ExecuteTime": {
     "end_time": "2024-05-16T15:42:34.267161Z",
     "start_time": "2024-05-16T15:42:34.263515Z"
    }
   },
   "outputs": [],
   "source": [
    "batch_size = 32\n",
    "length = 10\n",
    "num_labels = 36\n",
    "num_sensors = 5"
   ]
  },
  {
   "cell_type": "code",
   "execution_count": 6,
   "id": "cdbeb3bba1c06763",
   "metadata": {
    "ExecuteTime": {
     "end_time": "2024-05-16T15:42:34.277918Z",
     "start_time": "2024-05-16T15:42:34.272854Z"
    }
   },
   "outputs": [
    {
     "name": "stdout",
     "output_type": "stream",
     "text": [
      "21476 5370\n"
     ]
    }
   ],
   "source": [
    "# Tổng số mẫu\n",
    "total_samples = len(X_train)\n",
    "\n",
    "# Trích 80% cho tập train, 20% cho tập test\n",
    "train_size = int(0.8 * total_samples)\n",
    "test_size = total_samples - train_size\n",
    "\n",
    "# Chia dữ liệu thành tập train và test\n",
    "# train_dataset = torch.utils.data.TensorDataset(X_train, y_train)\n",
    "# test_dataset = torch.utils.data.TensorDataset(X_test, y_test)\n",
    "train_dataset, test_dataset = data.random_split(torch.utils.data.TensorDataset(X_train, y_train), [train_size, test_size])\n",
    "\n",
    "# Khởi tạo DataLoader\n",
    "train_loader = torch.utils.data.DataLoader(train_dataset, batch_size=batch_size, shuffle=True)\n",
    "test_loader = torch.utils.data.DataLoader(test_dataset, batch_size=batch_size, shuffle=False)\n",
    "\n",
    "print(train_size, test_size)"
   ]
  },
  {
   "cell_type": "markdown",
   "id": "53d89e60",
   "metadata": {},
   "source": [
    "### Định nghĩa các mô hình"
   ]
  },
  {
   "cell_type": "code",
   "execution_count": 7,
   "id": "5e813624",
   "metadata": {
    "ExecuteTime": {
     "end_time": "2024-05-16T15:42:34.287543Z",
     "start_time": "2024-05-16T15:42:34.278931Z"
    }
   },
   "outputs": [],
   "source": [
    "#Định nghĩa mô hình CNN 1D\n",
    "class CNN1D(nn.Module):\n",
    "    def __init__(self, num_sensors, num_labels, length):\n",
    "        super(CNN1D, self).__init__()\n",
    "        self.conv1 = nn.Conv1d(in_channels=num_sensors, out_channels=128, kernel_size=3, padding=1)\n",
    "        self.conv2 = nn.Conv1d(in_channels=128, out_channels=256, kernel_size=3, padding=1)\n",
    "        self.conv3 = nn.Conv1d(in_channels=256, out_channels=512, kernel_size=3, padding=1)\n",
    "        self.conv4 = nn.Conv1d(in_channels=512, out_channels=512, kernel_size=3, padding=1)\n",
    "        self.conv5 = nn.Conv1d(in_channels=512, out_channels=1024, kernel_size=3, padding=1)\n",
    "        self.batch_norm1 = nn.BatchNorm1d(128)\n",
    "        self.batch_norm2 = nn.BatchNorm1d(256)\n",
    "        self.batch_norm3 = nn.BatchNorm1d(512)\n",
    "        self.batch_norm4 = nn.BatchNorm1d(512)\n",
    "        self.batch_norm5 = nn.BatchNorm1d(1024)\n",
    "        self.maxpool = nn.MaxPool1d(kernel_size=2, stride=1)\n",
    "        self.fc1 = nn.Linear(512 * length, 512)\n",
    "        self.fc2 = nn.Linear(512, num_labels)\n",
    "        self.relu = nn.ReLU()\n",
    "        self.dropout = nn.Dropout(0.3)\n",
    "\n",
    "    def forward(self, x):\n",
    "        x = self.relu(self.batch_norm1(self.conv1(x)))\n",
    "        x = self.maxpool(x)\n",
    "        x = self.relu(self.batch_norm2(self.conv2(x)))\n",
    "        x = self.maxpool(x)\n",
    "        x = self.relu(self.batch_norm3(self.conv3(x)))\n",
    "        x = self.maxpool(x)\n",
    "        x = self.relu(self.batch_norm4(self.conv4(x)))\n",
    "        x = self.maxpool(x)\n",
    "        x = self.relu(self.batch_norm5(self.conv5(x)))\n",
    "        x = self.maxpool(x)\n",
    "        x = x.view(x.size(0), -1)\n",
    "        x = self.dropout(self.relu(self.fc1(x)))\n",
    "        x = self.fc2(x)\n",
    "        return x"
   ]
  },
  {
   "cell_type": "code",
   "execution_count": 8,
   "id": "967953cb",
   "metadata": {},
   "outputs": [],
   "source": [
    "# #Định nghĩa mô hình CNN 1D\n",
    "# class CNN1D(nn.Module):\n",
    "#     def __init__(self, num_sensors, num_labels, length):\n",
    "#         super(CNN1D, self).__init__()\n",
    "#         self.conv1 = nn.Conv1d(in_channels=num_sensors, out_channels=128, kernel_size=3, padding=1)\n",
    "#         self.conv2 = nn.Conv1d(in_channels=128, out_channels=256, kernel_size=3, padding=1)\n",
    "#         self.conv3 = nn.Conv1d(in_channels=256, out_channels=512, kernel_size=3, padding=1)\n",
    "#         self.conv4 = nn.Conv1d(in_channels=512, out_channels=512, kernel_size=3, padding=1)\n",
    "#         self.conv5 = nn.Conv1d(in_channels=512, out_channels=1024, kernel_size=3, padding=1)\n",
    "#         self.batch_norm1 = nn.BatchNorm1d(128)\n",
    "#         self.batch_norm2 = nn.BatchNorm1d(256)\n",
    "#         self.batch_norm3 = nn.BatchNorm1d(512)\n",
    "#         self.batch_norm4 = nn.BatchNorm1d(512)\n",
    "#         self.batch_norm5 = nn.BatchNorm1d(1024)\n",
    "#     #    self.maxpool = nn.MaxPool1d(kernel_size=2, stride=1)\n",
    "#         self.fc1 = nn.Linear(1024 * length, 512) \n",
    "#         self.fc2 = nn.Linear(512, num_labels)\n",
    "#         self.relu = nn.ReLU()\n",
    "#         self.dropout = nn.Dropout(0.3)\n",
    "#         self.softmax = nn.Softmax(dim=1)\n",
    "\n",
    "#     def forward(self, x):\n",
    "#         x = self.relu(self.batch_norm1(self.conv1(x)))\n",
    "#     #    x = self.maxpool(x)\n",
    "#         x = self.relu(self.batch_norm2(self.conv2(x)))\n",
    "#     #    x = self.maxpool(x)\n",
    "#         x = self.relu(self.batch_norm3(self.conv3(x)))\n",
    "#     #    x = self.maxpool(x)\n",
    "#         x = self.relu(self.batch_norm4(self.conv4(x)))\n",
    "#     #    x = self.maxpool(x)\n",
    "#         x = self.relu(self.batch_norm5(self.conv5(x)))\n",
    "#     #    x = self.maxpool(x)\n",
    "#         x = x.view(x.size(0), -1)\n",
    "#         x = self.dropout(self.relu(self.fc1(x)))\n",
    "#         x = self.fc2(x)\n",
    "#         x = self.softmax(x)\n",
    "#         return x\n"
   ]
  },
  {
   "cell_type": "markdown",
   "id": "755d40c4",
   "metadata": {},
   "source": [
    "### Huấn luyện mô hình"
   ]
  },
  {
   "cell_type": "code",
   "execution_count": 9,
   "id": "b2ba5bd0",
   "metadata": {
    "ExecuteTime": {
     "end_time": "2024-05-16T15:42:34.291897Z",
     "start_time": "2024-05-16T15:42:34.288554Z"
    }
   },
   "outputs": [],
   "source": [
    "num_epochs = 100\n",
    "learning_rate = 0.0001"
   ]
  },
  {
   "cell_type": "code",
   "execution_count": 10,
   "id": "b5ac9c77",
   "metadata": {
    "ExecuteTime": {
     "end_time": "2024-05-16T15:42:35.115139Z",
     "start_time": "2024-05-16T15:42:34.292907Z"
    }
   },
   "outputs": [],
   "source": [
    "# Khởi tạo mô hình, hàm mất mát và bộ tối ưu\n",
    "model = CNN1D(num_sensors=num_sensors, num_labels=num_labels, length=length).to(device)\n",
    "error = nn.CrossEntropyLoss()\n",
    "optimizer = optim.Adam(model.parameters(), lr=learning_rate, weight_decay=0.0001)\n",
    "\n",
    "#model = CNN1D(num_sensors=num_sensors, num_labels=num_labels, length=length).to(device)# 7,Create CNN\n",
    "#error = nn.CrossEntropyLoss()#8, Cross Entropy Loss \n",
    "#optimizer = optim.SGD(model.parameters(), lr=learning_rate, weight_decay=0.001)"
   ]
  },
  {
   "cell_type": "code",
   "execution_count": 11,
   "id": "a4e6f651",
   "metadata": {
    "ExecuteTime": {
     "end_time": "2024-05-16T15:42:35.122872Z",
     "start_time": "2024-05-16T15:42:35.116147Z"
    }
   },
   "outputs": [],
   "source": [
    "# Danh sách các nhãn\n",
    "#label_dict = {'11': 0, '12': 1, '13': 2, '14': 3, '21': 4, '22': 5, '23': 6, '24': 7, '31': 8, '32': 9, '33': 10, '34': 11, '41': 12, '42': 13, '43': 14, '44': 15, '51': 16, '52': 17, '53': 18, '54': 19, '61': 20, '62': 21, '63': 22, '64': 23, '71': 24, '72': 25, '73': 26, '74': 27, '81': 28, '82': 29, '83': 30, '84': 31, '91': 32, '92': 33, '93': 34, '94': 35, '0': 36}\n",
    "label_dict = {'11': 0, '12': 1, '13': 2, '14': 3, '21': 4, '22': 5, '23': 6, '24': 7, '31': 8, '32': 9, '33': 10, '34': 11, '41': 12, '42': 13, '43': 14, '44': 15, '51': 16, '52': 17, '53': 18, '54': 19, '61': 20, '62': 21, '63': 22, '64': 23, '71': 24, '72': 25, '73': 26, '74': 27, '81': 28, '82': 29, '83': 30, '84': 31, '91': 32, '92': 33, '93': 34, '94': 35}\n",
    "\n",
    "# Hàm chuyển đổi nhãn\n",
    "def label_to_index(labels):\n",
    "    # Chuyển đổi tensor labels về list\n",
    "    labels_list = [str(label.item()) for label in labels]\n",
    "    return torch.tensor([label_dict[label] for label in labels_list])"
   ]
  },
  {
   "cell_type": "code",
   "execution_count": 12,
   "id": "25d9330d",
   "metadata": {
    "ExecuteTime": {
     "end_time": "2024-05-16T15:58:59.649381Z",
     "start_time": "2024-05-16T15:42:35.123879Z"
    }
   },
   "outputs": [
    {
     "name": "stderr",
     "output_type": "stream",
     "text": [
      "/home/emb/anaconda3/envs/cuda/lib/python3.11/site-packages/torch/autograd/graph.py:744: UserWarning: Plan failed with a cudnnException: CUDNN_BACKEND_EXECUTION_PLAN_DESCRIPTOR: cudnnFinalize Descriptor Failed cudnn_status: CUDNN_STATUS_NOT_SUPPORTED (Triggered internally at /opt/conda/conda-bld/pytorch_1712608853085/work/aten/src/ATen/native/cudnn/Conv_v8.cpp:919.)\n",
      "  return Variable._execution_engine.run_backward(  # Calls into the C++ engine to run the backward pass\n"
     ]
    },
    {
     "name": "stdout",
     "output_type": "stream",
     "text": [
      "Epoch [1/100], Train Loss: 1.7401\n",
      "Epoch [2/100], Train Loss: 0.7593\n",
      "Epoch [3/100], Train Loss: 0.4743\n",
      "Epoch [4/100], Train Loss: 0.3596\n",
      "Epoch [5/100], Train Loss: 0.2687\n",
      "Epoch [6/100], Train Loss: 0.2149\n",
      "Epoch [7/100], Train Loss: 0.1846\n",
      "Epoch [8/100], Train Loss: 0.1694\n",
      "Epoch [9/100], Train Loss: 0.1392\n",
      "Epoch [10/100], Train Loss: 0.1078\n",
      "Epoch [11/100], Train Loss: 0.1150\n",
      "Epoch [12/100], Train Loss: 0.0968\n",
      "Epoch [13/100], Train Loss: 0.0886\n",
      "Epoch [14/100], Train Loss: 0.0674\n",
      "Epoch [15/100], Train Loss: 0.0678\n",
      "Epoch [16/100], Train Loss: 0.0652\n",
      "Epoch [17/100], Train Loss: 0.0528\n",
      "Epoch [18/100], Train Loss: 0.0613\n",
      "Epoch [19/100], Train Loss: 0.0549\n",
      "Epoch [20/100], Train Loss: 0.0510\n",
      "Epoch [21/100], Train Loss: 0.0605\n",
      "Epoch [22/100], Train Loss: 0.0447\n",
      "Epoch [23/100], Train Loss: 0.0494\n",
      "Epoch [24/100], Train Loss: 0.0347\n",
      "Epoch [25/100], Train Loss: 0.0527\n",
      "Epoch [26/100], Train Loss: 0.0438\n",
      "Epoch [27/100], Train Loss: 0.0425\n",
      "Epoch [28/100], Train Loss: 0.0317\n",
      "Epoch [29/100], Train Loss: 0.0320\n",
      "Epoch [30/100], Train Loss: 0.0379\n",
      "Epoch [31/100], Train Loss: 0.0361\n",
      "Epoch [32/100], Train Loss: 0.0288\n",
      "Epoch [33/100], Train Loss: 0.0280\n",
      "Epoch [34/100], Train Loss: 0.0391\n",
      "Epoch [35/100], Train Loss: 0.0253\n",
      "Epoch [36/100], Train Loss: 0.0345\n",
      "Epoch [37/100], Train Loss: 0.0208\n",
      "Epoch [38/100], Train Loss: 0.0345\n",
      "Epoch [39/100], Train Loss: 0.0284\n",
      "Epoch [40/100], Train Loss: 0.0327\n",
      "Epoch [41/100], Train Loss: 0.0213\n",
      "Epoch [42/100], Train Loss: 0.0154\n",
      "Epoch [43/100], Train Loss: 0.0296\n",
      "Epoch [44/100], Train Loss: 0.0251\n",
      "Epoch [45/100], Train Loss: 0.0291\n",
      "Epoch [46/100], Train Loss: 0.0108\n",
      "Epoch [47/100], Train Loss: 0.0245\n",
      "Epoch [48/100], Train Loss: 0.0284\n",
      "Epoch [49/100], Train Loss: 0.0084\n",
      "Epoch [50/100], Train Loss: 0.0267\n",
      "Epoch [51/100], Train Loss: 0.0199\n",
      "Epoch [52/100], Train Loss: 0.0292\n",
      "Epoch [53/100], Train Loss: 0.0088\n",
      "Epoch [54/100], Train Loss: 0.0332\n",
      "Epoch [55/100], Train Loss: 0.0197\n",
      "Epoch [56/100], Train Loss: 0.0134\n",
      "Epoch [57/100], Train Loss: 0.0132\n",
      "Epoch [58/100], Train Loss: 0.0260\n",
      "Epoch [59/100], Train Loss: 0.0232\n",
      "Epoch [60/100], Train Loss: 0.0063\n",
      "Epoch [61/100], Train Loss: 0.0276\n",
      "Epoch [62/100], Train Loss: 0.0142\n",
      "Epoch [63/100], Train Loss: 0.0193\n",
      "Epoch [64/100], Train Loss: 0.0055\n",
      "Epoch [65/100], Train Loss: 0.0291\n",
      "Epoch [66/100], Train Loss: 0.0239\n",
      "Epoch [67/100], Train Loss: 0.0155\n",
      "Epoch [68/100], Train Loss: 0.0146\n",
      "Epoch [69/100], Train Loss: 0.0207\n",
      "Epoch [70/100], Train Loss: 0.0078\n",
      "Epoch [71/100], Train Loss: 0.0182\n",
      "Epoch [72/100], Train Loss: 0.0136\n",
      "Epoch [73/100], Train Loss: 0.0191\n",
      "Epoch [74/100], Train Loss: 0.0136\n",
      "Epoch [75/100], Train Loss: 0.0222\n",
      "Epoch [76/100], Train Loss: 0.0121\n",
      "Epoch [77/100], Train Loss: 0.0143\n",
      "Epoch [78/100], Train Loss: 0.0146\n",
      "Epoch [79/100], Train Loss: 0.0192\n",
      "Epoch [80/100], Train Loss: 0.0147\n",
      "Epoch [81/100], Train Loss: 0.0125\n",
      "Epoch [82/100], Train Loss: 0.0214\n",
      "Epoch [83/100], Train Loss: 0.0107\n",
      "Epoch [84/100], Train Loss: 0.0212\n",
      "Epoch [85/100], Train Loss: 0.0065\n",
      "Epoch [86/100], Train Loss: 0.0044\n",
      "Epoch [87/100], Train Loss: 0.0290\n",
      "Epoch [88/100], Train Loss: 0.0018\n",
      "Epoch [89/100], Train Loss: 0.0166\n",
      "Epoch [90/100], Train Loss: 0.0047\n",
      "Epoch [91/100], Train Loss: 0.0239\n",
      "Epoch [92/100], Train Loss: 0.0193\n",
      "Epoch [93/100], Train Loss: 0.0114\n",
      "Epoch [94/100], Train Loss: 0.0040\n",
      "Epoch [95/100], Train Loss: 0.0186\n",
      "Epoch [96/100], Train Loss: 0.0133\n",
      "Epoch [97/100], Train Loss: 0.0106\n",
      "Epoch [98/100], Train Loss: 0.0042\n",
      "Epoch [99/100], Train Loss: 0.0141\n",
      "Epoch [100/100], Train Loss: 0.0203\n"
     ]
    }
   ],
   "source": [
    "import os\n",
    "\n",
    "# Kiểm tra xem file checkpoint đã tồn tại hay chưa\n",
    "if os.path.exists('training_checkpoint.pth'):\n",
    "    # Nếu có, tiếp tục từ checkpoint\n",
    "    checkpoint = torch.load('training_checkpoint.pth')\n",
    "    model.load_state_dict(checkpoint['model_state_dict'])\n",
    "    optimizer.load_state_dict(checkpoint['optimizer_state_dict'])\n",
    "    start_epoch = checkpoint['epoch'] + 1\n",
    "    loss_values = checkpoint['loss_values']\n",
    "    print(\"Đã tìm thấy checkpoint, tiếp tục huấn luyện từ epoch\", start_epoch)\n",
    "else:\n",
    "    # Nếu không, bắt đầu huấn luyện từ đầu\n",
    "    start_epoch = 0\n",
    "    loss_values = []\n",
    "\n",
    "for epoch in range(start_epoch, num_epochs):\n",
    "    model.train()  # Đặt mô hình ở chế độ huấn luyện\n",
    "    running_loss = 0.0\n",
    "    for inputs, labels in train_loader:\n",
    "        optimizer.zero_grad()\n",
    "        labels = label_to_index(labels).to(device)\n",
    "        outputs = model(inputs)\n",
    "        loss = error(outputs, labels)  #Tính toán hàm tổn thất (loss function)\n",
    "        loss.backward()  #Chuyền ngược\n",
    "        optimizer.step()  # Cập nhật trọng số\n",
    "\n",
    "        running_loss += loss.item() * inputs.size(0)\n",
    "\n",
    "    epoch_loss = running_loss / len(train_loader.dataset)\n",
    "    loss_values.append(epoch_loss)\n",
    "    print(f\"Epoch [{epoch + 1}/{num_epochs}], Train Loss: {epoch_loss:.4f}\")\n",
    "    \n",
    "        # Lưu checkpoint sau mỗi epoch\n",
    "    torch.save({\n",
    "       'epoch': epoch,\n",
    "       'model_state_dict': model.state_dict(),\n",
    "       'optimizer_state_dict': optimizer.state_dict(),\n",
    "       'loss_values': loss_values\n",
    "   }, 'training_checkpoint.pth')\n"
   ]
  },
  {
   "cell_type": "code",
   "execution_count": 13,
   "id": "7ebecbfe",
   "metadata": {
    "ExecuteTime": {
     "end_time": "2024-05-16T15:59:00.184613Z",
     "start_time": "2024-05-16T15:58:59.652388Z"
    }
   },
   "outputs": [
    {
     "data": {
      "image/png": "[encoded data removed]",
      "text/plain": [
       "<Figure size 640x480 with 1 Axes>"
      ]
     },
     "metadata": {},
     "output_type": "display_data"
    }
   ],
   "source": [
    "import matplotlib.pyplot as plt\n",
    "# Đồ thị Loss\n",
    "plt.plot(loss_values)\n",
    "plt.xlabel('Epoch')\n",
    "plt.ylabel('Loss')\n",
    "plt.title('Training Loss Over Epochs')\n",
    "plt.show()"
   ]
  },
  {
   "cell_type": "markdown",
   "id": "2664eaa3",
   "metadata": {},
   "source": [
    "### Đánh giá mô hình sau huấn luyện"
   ]
  },
  {
   "cell_type": "code",
   "execution_count": 14,
   "id": "e9446634",
   "metadata": {
    "ExecuteTime": {
     "end_time": "2024-05-16T15:59:00.332235Z",
     "start_time": "2024-05-16T15:59:00.185622Z"
    }
   },
   "outputs": [
    {
     "name": "stdout",
     "output_type": "stream",
     "text": [
      "Validation Loss: 0.0001, Validation Accuracy: 1.0000\n"
     ]
    }
   ],
   "source": [
    "model.eval()\n",
    "val_loss = 0.0\n",
    "correct = 0\n",
    "total = 0\n",
    "    \n",
    "with torch.no_grad():\n",
    "    for inputs, labels in test_loader:\n",
    "        inputs = inputs.to(device)\n",
    "        labels = label_to_index(labels).to(device)\n",
    "            \n",
    "        outputs = model(inputs)\n",
    "        loss = error(outputs, labels)\n",
    "        val_loss += loss.item() * inputs.size(0)\n",
    "            \n",
    "        _, predicted = torch.max(outputs, 1)\n",
    "        total += labels.size(0)\n",
    "        correct += (predicted == labels).sum().item()\n",
    "\n",
    "val_loss /= len(test_loader.dataset)\n",
    "val_acc = correct / total\n",
    "print(f\"Validation Loss: {val_loss:.4f}, Validation Accuracy: {val_acc:.4f}\")"
   ]
  },
  {
   "cell_type": "code",
   "execution_count": 15,
   "id": "6af53bdc025473db",
   "metadata": {
    "ExecuteTime": {
     "end_time": "2024-05-16T16:00:02.743546Z",
     "start_time": "2024-05-16T16:00:02.708678Z"
    }
   },
   "outputs": [
    {
     "name": "stdout",
     "output_type": "stream",
     "text": [
      "Batch Sample - True Label: 27, Predicted Label: 27\n",
      "Random Dataset Sample - True Label: 14, Predicted Label: 14\n"
     ]
    }
   ],
   "source": [
    "import random\n",
    "# Lấy một mẫu ngẫu nhiên\n",
    "model.eval()  # Đặt mô hình vào chế độ đánh giá\n",
    "with torch.no_grad():\n",
    "    # Lấy một batch từ test_loader\n",
    "    for inputs, labels in test_loader:\n",
    "        inputs = inputs.to(device)\n",
    "        labels = label_to_index(labels).to(device)\n",
    "        \n",
    "        outputs = model(inputs)\n",
    "        _, predicted = torch.max(outputs, 1)\n",
    "\n",
    "        # Lấy ngẫu nhiên một mẫu từ batch đầu tiên\n",
    "        random_batch_index = random.randint(0, inputs.size(0) - 1)\n",
    "\n",
    "        true_label = labels[random_batch_index].item()\n",
    "        predicted_label = predicted[random_batch_index].item()\n",
    "        \n",
    "        print(f\"Batch Sample - True Label: {true_label}, Predicted Label: {predicted_label}\")\n",
    "        break  # Chỉ lấy một batch\n",
    "    \n",
    "    # Lấy mẫu ngẫu nhiên từ toàn bộ tập dữ liệu\n",
    "    random_index = random.randint(0, len(test_dataset) - 1)\n",
    "    random_sample, random_label = test_dataset[random_index]\n",
    "    random_sample = random_sample.unsqueeze(0).to(device)  # Thêm một chiều batch và chuyển sang device\n",
    "    random_label = label_to_index([random_label]).to(device)\n",
    "\n",
    "    random_output = model(random_sample)\n",
    "    _, random_predicted = torch.max(random_output, 1)\n",
    "\n",
    "    print(f\"Random Dataset Sample - True Label: {random_label.item()}, Predicted Label: {random_predicted.item()}\")\n"
   ]
  },
  {
   "cell_type": "markdown",
   "id": "ebc2f1cb",
   "metadata": {},
   "source": [
    "# Import testing data"
   ]
  }
 ],
 "metadata": {
  "kernelspec": {
   "display_name": "Python 3 (Spyder)",
   "language": "python3",
   "name": "python3"
  },
  "language_info": {
   "codemirror_mode": {
    "name": "ipython",
    "version": 3
   },
   "file_extension": ".py",
   "mimetype": "text/x-python",
   "name": "python",
   "nbconvert_exporter": "python",
   "pygments_lexer": "ipython3",
   "version": "3.1.undefined"
  }
 },
 "nbformat": 4,
 "nbformat_minor": 5
}
