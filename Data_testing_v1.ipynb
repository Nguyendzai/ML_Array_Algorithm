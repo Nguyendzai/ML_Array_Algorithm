{
 "cells": [
  {
   "cell_type": "code",
   "execution_count": 1,
   "id": "2648df2007554ec5",
   "metadata": {
    "ExecuteTime": {
     "end_time": "2024-05-16T15:18:44.367179Z",
     "start_time": "2024-05-16T15:18:44.311118Z"
    }
   },
   "outputs": [],
   "source": [
    "import os\n",
    "import scipy.io\n",
    "import numpy as np\n",
    "import pandas as pd\n",
    "from statistics import mode\n",
    "\n",
    "# Define the path to the test data directory\n",
    "test_path = \"./PIR_DATASET/testing_data\"\n",
    "\n",
    "# Initialize an empty list to store data\n",
    "test_data_list = []\n",
    "\n",
    "# Loop through files in the specified folder\n",
    "for filename in os.listdir(test_path):\n",
    "    # Check if the file is a regular file\n",
    "    if os.path.isfile(os.path.join(test_path, filename)):\n",
    "        # Extract file name without extension\n",
    "        mat_file_name = os.path.splitext(filename)[0]\n",
    "\n",
    "        # Load data from the .mat file\n",
    "        data = scipy.io.loadmat(os.path.join(test_path, filename))\n",
    "\n",
    "        # Extract data and process\n",
    "        x = data['testing_data'][0][0]\n",
    "        y = data['testing_data'][0][1]\n",
    "\n",
    "        # Define parameters\n",
    "        s = 5\n",
    "        length = 10\n",
    "        stand = 2\n",
    "\n",
    "        start = 0\n",
    "        end = start + length\n",
    "        while start < x.shape[1]:\n",
    "            x_str = []\n",
    "            x_str_len = len(x[0, start:end])\n",
    "            if x_str_len < length:\n",
    "                for sensor in range(s):\n",
    "                    x_str.append(\"[\" + \",\".join(map(str, x[sensor, start:end])) + \",\" +\n",
    "                                 \",\".join(map(str, np.zeros(length - x_str_len) + stand)) + \"]\")\n",
    "            else:\n",
    "                for sensor in range(s):\n",
    "                    x_str.append(\"[\" + \",\".join(map(str, x[sensor, start:end])) + \"]\")\n",
    "            y_str = mode(y[0, start:end].tolist())\n",
    "            start += 10\n",
    "            end += 10\n",
    "\n",
    "            # Append data to the list\n",
    "            test_data_list.append({'x1': x_str[0], 'x2': x_str[1], 'x3': x_str[2], 'x4': x_str[3], 'x5': x_str[4],\n",
    "                                   'y': y_str})\n",
    "\n",
    "# Convert the list of dictionaries to a DataFrame\n",
    "df_test = pd.DataFrame(test_data_list)\n",
    "\n",
    "# Write DataFrame to CSV file\n",
    "df_test.to_csv('Data_testing_v1.csv', index=False)\n"
   ]
  },
  {
   "cell_type": "code",
   "execution_count": null,
   "id": "ca0e38710a88404a",
   "metadata": {},
   "outputs": [],
   "source": []
  }
 ],
 "metadata": {
  "kernelspec": {
   "display_name": "Python 3",
   "language": "python",
   "name": "python3"
  },
  "language_info": {
   "codemirror_mode": {
    "name": "ipython",
    "version": 3
   },
   "file_extension": ".py",
   "mimetype": "text/x-python",
   "name": "python",
   "nbconvert_exporter": "python",
   "pygments_lexer": "ipython3",
   "version": "3.11.9"
  }
 },
 "nbformat": 4,
 "nbformat_minor": 5
}
