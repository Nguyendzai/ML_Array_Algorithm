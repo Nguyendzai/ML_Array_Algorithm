{
 "cells": [
  {
   "cell_type": "code",
   "metadata": {
    "ExecuteTime": {
     "end_time": "2024-05-13T01:50:04.708328Z",
     "start_time": "2024-05-13T01:50:02.837402Z"
    }
   },
   "source": [
    "import numpy as np\n",
    "import torch\n",
    "import pandas as pd\n",
    "from sklearn.manifold import TSNE\n",
    "import matplotlib.pyplot as plt\n",
    "import ast"
   ],
   "outputs": [],
   "execution_count": 6
  },
  {
   "cell_type": "code",
   "metadata": {
    "ExecuteTime": {
     "end_time": "2024-05-13T01:50:10.598008Z",
     "start_time": "2024-05-13T01:50:05.330609Z"
    }
   },
   "source": [
    "# Đọc dữ liệu từ file CSV\n",
    "df = pd.read_csv('data.csv')\n",
    "    \n",
    "# Chọn các cột 'x1', 'x2', 'x3', 'x4', 'x5' làm đầu vào và 'y' làm đầu ra\n",
    "x_data = df[['x1', 'x2', 'x3', 'x4', 'x5']]\n",
    "y_data = df['y']\n",
    "\n",
    "# Khởi tạo danh sách để lưu trữ dữ liệu đầu vào dưới dạng tensors\n",
    "x_train = []\n",
    "\n",
    "# Lặp qua từng hàng trong x_data\n",
    "for index in range(len(x_data)):\n",
    "    # Lấy hàng thứ index từ DataFrame\n",
    "    row = x_data.iloc[index]\n",
    "    # Chuyển đổi từng giá trị trong hàng thành list\n",
    "    x_values = [ast.literal_eval(val) for val in row.values]\n",
    "    # Thêm tensor tương ứng vào danh sách x_train\n",
    "    x_train.append(torch.tensor(x_values, dtype=torch.float32))\n",
    "\n",
    "# Chuyển đổi dữ liệu đầu ra thành tensor PyTorch\n",
    "y_train = torch.tensor(y_data.values, dtype=torch.long)\n",
    "\n",
    "# Tạo tensor từ danh sách các tensors đầu vào\n",
    "X_train = torch.stack(x_train)"
   ],
   "outputs": [],
   "execution_count": 7
  },
  {
   "metadata": {
    "ExecuteTime": {
     "end_time": "2024-05-13T02:12:48.547068Z",
     "start_time": "2024-05-13T02:12:48.536582Z"
    }
   },
   "cell_type": "code",
   "source": "X_train",
   "outputs": [
    {
     "data": {
      "text/plain": [
       "tensor([[[2.0700, 2.0700, 2.0700,  ..., 2.0200, 2.0000, 2.0000],\n",
       "         [2.0500, 2.0600, 2.0700,  ..., 2.0800, 2.0900, 2.0800],\n",
       "         [2.0400, 2.0300, 2.0300,  ..., 2.0200, 2.0100, 2.0100],\n",
       "         [2.0500, 2.0400, 2.0500,  ..., 2.0400, 2.0500, 2.0600],\n",
       "         [2.0600, 2.0600, 2.0500,  ..., 2.0600, 2.0500, 2.0500]],\n",
       "\n",
       "        [[1.9800, 1.9700, 1.9600,  ..., 1.9000, 1.8900, 1.8900],\n",
       "         [2.0900, 2.0900, 2.0900,  ..., 2.1000, 2.0800, 2.1100],\n",
       "         [2.0000, 2.0100, 2.0100,  ..., 1.9900, 1.9900, 2.0100],\n",
       "         [2.0500, 2.0400, 2.0500,  ..., 2.0400, 2.0300, 2.0400],\n",
       "         [2.0500, 2.0600, 2.0700,  ..., 2.0700, 2.0700, 2.0700]],\n",
       "\n",
       "        [[1.8800, 1.8800, 1.8900,  ..., 1.9000, 1.9100, 1.9100],\n",
       "         [2.1000, 2.1100, 2.1000,  ..., 2.1000, 2.0900, 2.0800],\n",
       "         [1.9900, 2.0000, 2.0000,  ..., 2.0100, 2.0100, 2.0100],\n",
       "         [2.0400, 2.0400, 2.0500,  ..., 2.0500, 2.0400, 2.0500],\n",
       "         [2.0600, 2.0600, 2.0800,  ..., 2.0500, 2.0500, 2.0600]],\n",
       "\n",
       "        ...,\n",
       "\n",
       "        [[2.0700, 2.0800, 2.0700,  ..., 2.0700, 2.0700, 2.0600],\n",
       "         [2.0800, 2.0800, 2.0800,  ..., 2.0800, 2.0800, 2.0800],\n",
       "         [2.0500, 2.0600, 2.0600,  ..., 2.1300, 2.1500, 2.1700],\n",
       "         [1.7600, 1.7400, 1.7300,  ..., 1.7000, 1.7000, 1.7000],\n",
       "         [1.8600, 1.8600, 1.8800,  ..., 1.9000, 1.9000, 1.9000]],\n",
       "\n",
       "        [[2.0500, 2.0700, 2.0700,  ..., 2.0900, 2.0800, 2.0700],\n",
       "         [2.0900, 2.1000, 2.0700,  ..., 2.0800, 2.0800, 2.0800],\n",
       "         [2.1600, 2.1600, 2.1800,  ..., 2.2300, 2.2300, 2.2300],\n",
       "         [1.7000, 1.7200, 1.7200,  ..., 1.7700, 1.7900, 1.8000],\n",
       "         [1.9000, 1.9100, 1.9100,  ..., 1.9300, 1.9400, 1.9700]],\n",
       "\n",
       "        [[2.0700, 2.0700, 2.0700,  ..., 2.0000, 2.0000, 2.0000],\n",
       "         [2.0800, 2.0800, 2.0800,  ..., 2.0000, 2.0000, 2.0000],\n",
       "         [2.2500, 2.2400, 2.2300,  ..., 2.0000, 2.0000, 2.0000],\n",
       "         [1.8200, 1.8400, 1.8700,  ..., 2.0000, 2.0000, 2.0000],\n",
       "         [1.9600, 1.9500, 1.9600,  ..., 2.0000, 2.0000, 2.0000]]])"
      ]
     },
     "execution_count": 25,
     "metadata": {},
     "output_type": "execute_result"
    }
   ],
   "execution_count": 25
  },
  {
   "metadata": {
    "ExecuteTime": {
     "end_time": "2024-05-13T02:28:19.409555Z",
     "start_time": "2024-05-13T02:28:19.390629Z"
    }
   },
   "cell_type": "code",
   "source": [
    "# Chuyển đổi tensor thành numpy array và làm phẳng nó\n",
    "flattened_data = X_train.view(-1, 50).numpy()\n",
    "data = pd.DataFrame(flattened_data).values\n",
    "data"
   ],
   "outputs": [
    {
     "data": {
      "text/plain": [
       "array([[2.07, 2.07, 2.07, ..., 2.06, 2.05, 2.05],\n",
       "       [1.98, 1.97, 1.96, ..., 2.07, 2.07, 2.07],\n",
       "       [1.88, 1.88, 1.89, ..., 2.05, 2.05, 2.06],\n",
       "       ...,\n",
       "       [2.07, 2.08, 2.07, ..., 1.9 , 1.9 , 1.9 ],\n",
       "       [2.05, 2.07, 2.07, ..., 1.93, 1.94, 1.97],\n",
       "       [2.07, 2.07, 2.07, ..., 2.  , 2.  , 2.  ]], dtype=float32)"
      ]
     },
     "execution_count": 50,
     "metadata": {},
     "output_type": "execute_result"
    }
   ],
   "execution_count": 50
  },
  {
   "metadata": {
    "ExecuteTime": {
     "end_time": "2024-05-13T02:28:27.726668Z",
     "start_time": "2024-05-13T02:28:27.493074Z"
    }
   },
   "cell_type": "code",
   "source": "plt.scatter(flattened_data[:, 10], flattened_data[:, 20])",
   "outputs": [
    {
     "data": {
      "text/plain": [
       "<matplotlib.collections.PathCollection at 0x1a92b6e7e90>"
      ]
     },
     "execution_count": 51,
     "metadata": {},
     "output_type": "execute_result"
    },
    {
     "data": {
      "text/plain": [
       "<Figure size 640x480 with 1 Axes>"
      ],
      "image/png": "[encoded data removed]"
     },
     "metadata": {},
     "output_type": "display_data"
    }
   ],
   "execution_count": 51
  },
  {
   "metadata": {
    "ExecuteTime": {
     "end_time": "2024-05-13T02:28:29.221303Z",
     "start_time": "2024-05-13T02:28:29.209157Z"
    }
   },
   "cell_type": "code",
   "source": "tsne = TSNE(n_components=2)",
   "outputs": [],
   "execution_count": 52
  },
  {
   "metadata": {
    "ExecuteTime": {
     "end_time": "2024-05-13T02:28:30.357644Z",
     "start_time": "2024-05-13T02:28:30.193561Z"
    }
   },
   "cell_type": "code",
   "source": [
    "# Sử dụng T-SNE để giảm chiều dữ liệu xuống 2 chiều\n",
    "embedded_data = tsne.fit_transform(data)"
   ],
   "outputs": [
    {
     "ename": "AttributeError",
     "evalue": "'NoneType' object has no attribute 'split'",
     "output_type": "error",
     "traceback": [
      "\u001B[1;31m---------------------------------------------------------------------------\u001B[0m",
      "\u001B[1;31mAttributeError\u001B[0m                            Traceback (most recent call last)",
      "Cell \u001B[1;32mIn[53], line 2\u001B[0m\n\u001B[0;32m      1\u001B[0m \u001B[38;5;66;03m# Sử dụng T-SNE để giảm chiều dữ liệu xuống 2 chiều\u001B[39;00m\n\u001B[1;32m----> 2\u001B[0m embedded_data \u001B[38;5;241m=\u001B[39m tsne\u001B[38;5;241m.\u001B[39mfit_transform(data)\n",
      "File \u001B[1;32m~\\anaconda3\\Lib\\site-packages\\sklearn\\manifold\\_t_sne.py:1119\u001B[0m, in \u001B[0;36mTSNE.fit_transform\u001B[1;34m(self, X, y)\u001B[0m\n\u001B[0;32m   1117\u001B[0m \u001B[38;5;28mself\u001B[39m\u001B[38;5;241m.\u001B[39m_validate_params()\n\u001B[0;32m   1118\u001B[0m \u001B[38;5;28mself\u001B[39m\u001B[38;5;241m.\u001B[39m_check_params_vs_input(X)\n\u001B[1;32m-> 1119\u001B[0m embedding \u001B[38;5;241m=\u001B[39m \u001B[38;5;28mself\u001B[39m\u001B[38;5;241m.\u001B[39m_fit(X)\n\u001B[0;32m   1120\u001B[0m \u001B[38;5;28mself\u001B[39m\u001B[38;5;241m.\u001B[39membedding_ \u001B[38;5;241m=\u001B[39m embedding\n\u001B[0;32m   1121\u001B[0m \u001B[38;5;28;01mreturn\u001B[39;00m \u001B[38;5;28mself\u001B[39m\u001B[38;5;241m.\u001B[39membedding_\n",
      "File \u001B[1;32m~\\anaconda3\\Lib\\site-packages\\sklearn\\manifold\\_t_sne.py:963\u001B[0m, in \u001B[0;36mTSNE._fit\u001B[1;34m(self, X, skip_num_points)\u001B[0m\n\u001B[0;32m    956\u001B[0m     \u001B[38;5;28mprint\u001B[39m(\n\u001B[0;32m    957\u001B[0m         \u001B[38;5;124m\"\u001B[39m\u001B[38;5;124m[t-SNE] Indexed \u001B[39m\u001B[38;5;132;01m{}\u001B[39;00m\u001B[38;5;124m samples in \u001B[39m\u001B[38;5;132;01m{:.3f}\u001B[39;00m\u001B[38;5;124ms...\u001B[39m\u001B[38;5;124m\"\u001B[39m\u001B[38;5;241m.\u001B[39mformat(\n\u001B[0;32m    958\u001B[0m             n_samples, duration\n\u001B[0;32m    959\u001B[0m         )\n\u001B[0;32m    960\u001B[0m     )\n\u001B[0;32m    962\u001B[0m t0 \u001B[38;5;241m=\u001B[39m time()\n\u001B[1;32m--> 963\u001B[0m distances_nn \u001B[38;5;241m=\u001B[39m knn\u001B[38;5;241m.\u001B[39mkneighbors_graph(mode\u001B[38;5;241m=\u001B[39m\u001B[38;5;124m\"\u001B[39m\u001B[38;5;124mdistance\u001B[39m\u001B[38;5;124m\"\u001B[39m)\n\u001B[0;32m    964\u001B[0m duration \u001B[38;5;241m=\u001B[39m time() \u001B[38;5;241m-\u001B[39m t0\n\u001B[0;32m    965\u001B[0m \u001B[38;5;28;01mif\u001B[39;00m \u001B[38;5;28mself\u001B[39m\u001B[38;5;241m.\u001B[39mverbose:\n",
      "File \u001B[1;32m~\\anaconda3\\Lib\\site-packages\\sklearn\\neighbors\\_base.py:988\u001B[0m, in \u001B[0;36mKNeighborsMixin.kneighbors_graph\u001B[1;34m(self, X, n_neighbors, mode)\u001B[0m\n\u001B[0;32m    985\u001B[0m     A_data \u001B[38;5;241m=\u001B[39m np\u001B[38;5;241m.\u001B[39mones(n_queries \u001B[38;5;241m*\u001B[39m n_neighbors)\n\u001B[0;32m    987\u001B[0m \u001B[38;5;28;01melif\u001B[39;00m mode \u001B[38;5;241m==\u001B[39m \u001B[38;5;124m\"\u001B[39m\u001B[38;5;124mdistance\u001B[39m\u001B[38;5;124m\"\u001B[39m:\n\u001B[1;32m--> 988\u001B[0m     A_data, A_ind \u001B[38;5;241m=\u001B[39m \u001B[38;5;28mself\u001B[39m\u001B[38;5;241m.\u001B[39mkneighbors(X, n_neighbors, return_distance\u001B[38;5;241m=\u001B[39m\u001B[38;5;28;01mTrue\u001B[39;00m)\n\u001B[0;32m    989\u001B[0m     A_data \u001B[38;5;241m=\u001B[39m np\u001B[38;5;241m.\u001B[39mravel(A_data)\n\u001B[0;32m    991\u001B[0m \u001B[38;5;28;01melse\u001B[39;00m:\n",
      "File \u001B[1;32m~\\anaconda3\\Lib\\site-packages\\sklearn\\neighbors\\_base.py:824\u001B[0m, in \u001B[0;36mKNeighborsMixin.kneighbors\u001B[1;34m(self, X, n_neighbors, return_distance)\u001B[0m\n\u001B[0;32m    817\u001B[0m use_pairwise_distances_reductions \u001B[38;5;241m=\u001B[39m (\n\u001B[0;32m    818\u001B[0m     \u001B[38;5;28mself\u001B[39m\u001B[38;5;241m.\u001B[39m_fit_method \u001B[38;5;241m==\u001B[39m \u001B[38;5;124m\"\u001B[39m\u001B[38;5;124mbrute\u001B[39m\u001B[38;5;124m\"\u001B[39m\n\u001B[0;32m    819\u001B[0m     \u001B[38;5;129;01mand\u001B[39;00m ArgKmin\u001B[38;5;241m.\u001B[39mis_usable_for(\n\u001B[0;32m    820\u001B[0m         X \u001B[38;5;28;01mif\u001B[39;00m X \u001B[38;5;129;01mis\u001B[39;00m \u001B[38;5;129;01mnot\u001B[39;00m \u001B[38;5;28;01mNone\u001B[39;00m \u001B[38;5;28;01melse\u001B[39;00m \u001B[38;5;28mself\u001B[39m\u001B[38;5;241m.\u001B[39m_fit_X, \u001B[38;5;28mself\u001B[39m\u001B[38;5;241m.\u001B[39m_fit_X, \u001B[38;5;28mself\u001B[39m\u001B[38;5;241m.\u001B[39meffective_metric_\n\u001B[0;32m    821\u001B[0m     )\n\u001B[0;32m    822\u001B[0m )\n\u001B[0;32m    823\u001B[0m \u001B[38;5;28;01mif\u001B[39;00m use_pairwise_distances_reductions:\n\u001B[1;32m--> 824\u001B[0m     results \u001B[38;5;241m=\u001B[39m ArgKmin\u001B[38;5;241m.\u001B[39mcompute(\n\u001B[0;32m    825\u001B[0m         X\u001B[38;5;241m=\u001B[39mX,\n\u001B[0;32m    826\u001B[0m         Y\u001B[38;5;241m=\u001B[39m\u001B[38;5;28mself\u001B[39m\u001B[38;5;241m.\u001B[39m_fit_X,\n\u001B[0;32m    827\u001B[0m         k\u001B[38;5;241m=\u001B[39mn_neighbors,\n\u001B[0;32m    828\u001B[0m         metric\u001B[38;5;241m=\u001B[39m\u001B[38;5;28mself\u001B[39m\u001B[38;5;241m.\u001B[39meffective_metric_,\n\u001B[0;32m    829\u001B[0m         metric_kwargs\u001B[38;5;241m=\u001B[39m\u001B[38;5;28mself\u001B[39m\u001B[38;5;241m.\u001B[39meffective_metric_params_,\n\u001B[0;32m    830\u001B[0m         strategy\u001B[38;5;241m=\u001B[39m\u001B[38;5;124m\"\u001B[39m\u001B[38;5;124mauto\u001B[39m\u001B[38;5;124m\"\u001B[39m,\n\u001B[0;32m    831\u001B[0m         return_distance\u001B[38;5;241m=\u001B[39mreturn_distance,\n\u001B[0;32m    832\u001B[0m     )\n\u001B[0;32m    834\u001B[0m \u001B[38;5;28;01melif\u001B[39;00m (\n\u001B[0;32m    835\u001B[0m     \u001B[38;5;28mself\u001B[39m\u001B[38;5;241m.\u001B[39m_fit_method \u001B[38;5;241m==\u001B[39m \u001B[38;5;124m\"\u001B[39m\u001B[38;5;124mbrute\u001B[39m\u001B[38;5;124m\"\u001B[39m \u001B[38;5;129;01mand\u001B[39;00m \u001B[38;5;28mself\u001B[39m\u001B[38;5;241m.\u001B[39mmetric \u001B[38;5;241m==\u001B[39m \u001B[38;5;124m\"\u001B[39m\u001B[38;5;124mprecomputed\u001B[39m\u001B[38;5;124m\"\u001B[39m \u001B[38;5;129;01mand\u001B[39;00m issparse(X)\n\u001B[0;32m    836\u001B[0m ):\n\u001B[0;32m    837\u001B[0m     results \u001B[38;5;241m=\u001B[39m _kneighbors_from_graph(\n\u001B[0;32m    838\u001B[0m         X, n_neighbors\u001B[38;5;241m=\u001B[39mn_neighbors, return_distance\u001B[38;5;241m=\u001B[39mreturn_distance\n\u001B[0;32m    839\u001B[0m     )\n",
      "File \u001B[1;32m~\\anaconda3\\Lib\\site-packages\\sklearn\\metrics\\_pairwise_distances_reduction\\_dispatcher.py:289\u001B[0m, in \u001B[0;36mArgKmin.compute\u001B[1;34m(cls, X, Y, k, metric, chunk_size, metric_kwargs, strategy, return_distance)\u001B[0m\n\u001B[0;32m    277\u001B[0m     \u001B[38;5;28;01mreturn\u001B[39;00m ArgKmin64\u001B[38;5;241m.\u001B[39mcompute(\n\u001B[0;32m    278\u001B[0m         X\u001B[38;5;241m=\u001B[39mX,\n\u001B[0;32m    279\u001B[0m         Y\u001B[38;5;241m=\u001B[39mY,\n\u001B[1;32m   (...)\u001B[0m\n\u001B[0;32m    285\u001B[0m         return_distance\u001B[38;5;241m=\u001B[39mreturn_distance,\n\u001B[0;32m    286\u001B[0m     )\n\u001B[0;32m    288\u001B[0m \u001B[38;5;28;01mif\u001B[39;00m X\u001B[38;5;241m.\u001B[39mdtype \u001B[38;5;241m==\u001B[39m Y\u001B[38;5;241m.\u001B[39mdtype \u001B[38;5;241m==\u001B[39m np\u001B[38;5;241m.\u001B[39mfloat32:\n\u001B[1;32m--> 289\u001B[0m     \u001B[38;5;28;01mreturn\u001B[39;00m ArgKmin32\u001B[38;5;241m.\u001B[39mcompute(\n\u001B[0;32m    290\u001B[0m         X\u001B[38;5;241m=\u001B[39mX,\n\u001B[0;32m    291\u001B[0m         Y\u001B[38;5;241m=\u001B[39mY,\n\u001B[0;32m    292\u001B[0m         k\u001B[38;5;241m=\u001B[39mk,\n\u001B[0;32m    293\u001B[0m         metric\u001B[38;5;241m=\u001B[39mmetric,\n\u001B[0;32m    294\u001B[0m         chunk_size\u001B[38;5;241m=\u001B[39mchunk_size,\n\u001B[0;32m    295\u001B[0m         metric_kwargs\u001B[38;5;241m=\u001B[39mmetric_kwargs,\n\u001B[0;32m    296\u001B[0m         strategy\u001B[38;5;241m=\u001B[39mstrategy,\n\u001B[0;32m    297\u001B[0m         return_distance\u001B[38;5;241m=\u001B[39mreturn_distance,\n\u001B[0;32m    298\u001B[0m     )\n\u001B[0;32m    300\u001B[0m \u001B[38;5;28;01mraise\u001B[39;00m \u001B[38;5;167;01mValueError\u001B[39;00m(\n\u001B[0;32m    301\u001B[0m     \u001B[38;5;124m\"\u001B[39m\u001B[38;5;124mOnly float64 or float32 datasets pairs are supported at this time, \u001B[39m\u001B[38;5;124m\"\u001B[39m\n\u001B[0;32m    302\u001B[0m     \u001B[38;5;124mf\u001B[39m\u001B[38;5;124m\"\u001B[39m\u001B[38;5;124mgot: X.dtype=\u001B[39m\u001B[38;5;132;01m{\u001B[39;00mX\u001B[38;5;241m.\u001B[39mdtype\u001B[38;5;132;01m}\u001B[39;00m\u001B[38;5;124m and Y.dtype=\u001B[39m\u001B[38;5;132;01m{\u001B[39;00mY\u001B[38;5;241m.\u001B[39mdtype\u001B[38;5;132;01m}\u001B[39;00m\u001B[38;5;124m.\u001B[39m\u001B[38;5;124m\"\u001B[39m\n\u001B[0;32m    303\u001B[0m )\n",
      "File \u001B[1;32msklearn\\metrics\\_pairwise_distances_reduction\\_argkmin.pyx:584\u001B[0m, in \u001B[0;36msklearn.metrics._pairwise_distances_reduction._argkmin.ArgKmin32.compute\u001B[1;34m()\u001B[0m\n",
      "File \u001B[1;32m~\\anaconda3\\Lib\\site-packages\\sklearn\\utils\\fixes.py:139\u001B[0m, in \u001B[0;36mthreadpool_limits\u001B[1;34m(limits, user_api)\u001B[0m\n\u001B[0;32m    137\u001B[0m     \u001B[38;5;28;01mreturn\u001B[39;00m controller\u001B[38;5;241m.\u001B[39mlimit(limits\u001B[38;5;241m=\u001B[39mlimits, user_api\u001B[38;5;241m=\u001B[39muser_api)\n\u001B[0;32m    138\u001B[0m \u001B[38;5;28;01melse\u001B[39;00m:\n\u001B[1;32m--> 139\u001B[0m     \u001B[38;5;28;01mreturn\u001B[39;00m threadpoolctl\u001B[38;5;241m.\u001B[39mthreadpool_limits(limits\u001B[38;5;241m=\u001B[39mlimits, user_api\u001B[38;5;241m=\u001B[39muser_api)\n",
      "File \u001B[1;32m~\\anaconda3\\Lib\\site-packages\\threadpoolctl.py:171\u001B[0m, in \u001B[0;36mthreadpool_limits.__init__\u001B[1;34m(self, limits, user_api)\u001B[0m\n\u001B[0;32m    167\u001B[0m \u001B[38;5;28;01mdef\u001B[39;00m \u001B[38;5;21m__init__\u001B[39m(\u001B[38;5;28mself\u001B[39m, limits\u001B[38;5;241m=\u001B[39m\u001B[38;5;28;01mNone\u001B[39;00m, user_api\u001B[38;5;241m=\u001B[39m\u001B[38;5;28;01mNone\u001B[39;00m):\n\u001B[0;32m    168\u001B[0m     \u001B[38;5;28mself\u001B[39m\u001B[38;5;241m.\u001B[39m_limits, \u001B[38;5;28mself\u001B[39m\u001B[38;5;241m.\u001B[39m_user_api, \u001B[38;5;28mself\u001B[39m\u001B[38;5;241m.\u001B[39m_prefixes \u001B[38;5;241m=\u001B[39m \\\n\u001B[0;32m    169\u001B[0m         \u001B[38;5;28mself\u001B[39m\u001B[38;5;241m.\u001B[39m_check_params(limits, user_api)\n\u001B[1;32m--> 171\u001B[0m     \u001B[38;5;28mself\u001B[39m\u001B[38;5;241m.\u001B[39m_original_info \u001B[38;5;241m=\u001B[39m \u001B[38;5;28mself\u001B[39m\u001B[38;5;241m.\u001B[39m_set_threadpool_limits()\n",
      "File \u001B[1;32m~\\anaconda3\\Lib\\site-packages\\threadpoolctl.py:268\u001B[0m, in \u001B[0;36mthreadpool_limits._set_threadpool_limits\u001B[1;34m(self)\u001B[0m\n\u001B[0;32m    265\u001B[0m \u001B[38;5;28;01mif\u001B[39;00m \u001B[38;5;28mself\u001B[39m\u001B[38;5;241m.\u001B[39m_limits \u001B[38;5;129;01mis\u001B[39;00m \u001B[38;5;28;01mNone\u001B[39;00m:\n\u001B[0;32m    266\u001B[0m     \u001B[38;5;28;01mreturn\u001B[39;00m \u001B[38;5;28;01mNone\u001B[39;00m\n\u001B[1;32m--> 268\u001B[0m modules \u001B[38;5;241m=\u001B[39m _ThreadpoolInfo(prefixes\u001B[38;5;241m=\u001B[39m\u001B[38;5;28mself\u001B[39m\u001B[38;5;241m.\u001B[39m_prefixes,\n\u001B[0;32m    269\u001B[0m                           user_api\u001B[38;5;241m=\u001B[39m\u001B[38;5;28mself\u001B[39m\u001B[38;5;241m.\u001B[39m_user_api)\n\u001B[0;32m    270\u001B[0m \u001B[38;5;28;01mfor\u001B[39;00m module \u001B[38;5;129;01min\u001B[39;00m modules:\n\u001B[0;32m    271\u001B[0m     \u001B[38;5;66;03m# self._limits is a dict {key: num_threads} where key is either\u001B[39;00m\n\u001B[0;32m    272\u001B[0m     \u001B[38;5;66;03m# a prefix or a user_api. If a module matches both, the limit\u001B[39;00m\n\u001B[0;32m    273\u001B[0m     \u001B[38;5;66;03m# corresponding to the prefix is chosed.\u001B[39;00m\n\u001B[0;32m    274\u001B[0m     \u001B[38;5;28;01mif\u001B[39;00m module\u001B[38;5;241m.\u001B[39mprefix \u001B[38;5;129;01min\u001B[39;00m \u001B[38;5;28mself\u001B[39m\u001B[38;5;241m.\u001B[39m_limits:\n",
      "File \u001B[1;32m~\\anaconda3\\Lib\\site-packages\\threadpoolctl.py:340\u001B[0m, in \u001B[0;36m_ThreadpoolInfo.__init__\u001B[1;34m(self, user_api, prefixes, modules)\u001B[0m\n\u001B[0;32m    337\u001B[0m     \u001B[38;5;28mself\u001B[39m\u001B[38;5;241m.\u001B[39muser_api \u001B[38;5;241m=\u001B[39m [] \u001B[38;5;28;01mif\u001B[39;00m user_api \u001B[38;5;129;01mis\u001B[39;00m \u001B[38;5;28;01mNone\u001B[39;00m \u001B[38;5;28;01melse\u001B[39;00m user_api\n\u001B[0;32m    339\u001B[0m     \u001B[38;5;28mself\u001B[39m\u001B[38;5;241m.\u001B[39mmodules \u001B[38;5;241m=\u001B[39m []\n\u001B[1;32m--> 340\u001B[0m     \u001B[38;5;28mself\u001B[39m\u001B[38;5;241m.\u001B[39m_load_modules()\n\u001B[0;32m    341\u001B[0m     \u001B[38;5;28mself\u001B[39m\u001B[38;5;241m.\u001B[39m_warn_if_incompatible_openmp()\n\u001B[0;32m    342\u001B[0m \u001B[38;5;28;01melse\u001B[39;00m:\n",
      "File \u001B[1;32m~\\anaconda3\\Lib\\site-packages\\threadpoolctl.py:373\u001B[0m, in \u001B[0;36m_ThreadpoolInfo._load_modules\u001B[1;34m(self)\u001B[0m\n\u001B[0;32m    371\u001B[0m     \u001B[38;5;28mself\u001B[39m\u001B[38;5;241m.\u001B[39m_find_modules_with_dyld()\n\u001B[0;32m    372\u001B[0m \u001B[38;5;28;01melif\u001B[39;00m sys\u001B[38;5;241m.\u001B[39mplatform \u001B[38;5;241m==\u001B[39m \u001B[38;5;124m\"\u001B[39m\u001B[38;5;124mwin32\u001B[39m\u001B[38;5;124m\"\u001B[39m:\n\u001B[1;32m--> 373\u001B[0m     \u001B[38;5;28mself\u001B[39m\u001B[38;5;241m.\u001B[39m_find_modules_with_enum_process_module_ex()\n\u001B[0;32m    374\u001B[0m \u001B[38;5;28;01melse\u001B[39;00m:\n\u001B[0;32m    375\u001B[0m     \u001B[38;5;28mself\u001B[39m\u001B[38;5;241m.\u001B[39m_find_modules_with_dl_iterate_phdr()\n",
      "File \u001B[1;32m~\\anaconda3\\Lib\\site-packages\\threadpoolctl.py:485\u001B[0m, in \u001B[0;36m_ThreadpoolInfo._find_modules_with_enum_process_module_ex\u001B[1;34m(self)\u001B[0m\n\u001B[0;32m    482\u001B[0m         filepath \u001B[38;5;241m=\u001B[39m buf\u001B[38;5;241m.\u001B[39mvalue\n\u001B[0;32m    484\u001B[0m         \u001B[38;5;66;03m# Store the module if it is supported and selected\u001B[39;00m\n\u001B[1;32m--> 485\u001B[0m         \u001B[38;5;28mself\u001B[39m\u001B[38;5;241m.\u001B[39m_make_module_from_path(filepath)\n\u001B[0;32m    486\u001B[0m \u001B[38;5;28;01mfinally\u001B[39;00m:\n\u001B[0;32m    487\u001B[0m     kernel_32\u001B[38;5;241m.\u001B[39mCloseHandle(h_process)\n",
      "File \u001B[1;32m~\\anaconda3\\Lib\\site-packages\\threadpoolctl.py:515\u001B[0m, in \u001B[0;36m_ThreadpoolInfo._make_module_from_path\u001B[1;34m(self, filepath)\u001B[0m\n\u001B[0;32m    513\u001B[0m \u001B[38;5;28;01mif\u001B[39;00m prefix \u001B[38;5;129;01min\u001B[39;00m \u001B[38;5;28mself\u001B[39m\u001B[38;5;241m.\u001B[39mprefixes \u001B[38;5;129;01mor\u001B[39;00m user_api \u001B[38;5;129;01min\u001B[39;00m \u001B[38;5;28mself\u001B[39m\u001B[38;5;241m.\u001B[39muser_api:\n\u001B[0;32m    514\u001B[0m     module_class \u001B[38;5;241m=\u001B[39m \u001B[38;5;28mglobals\u001B[39m()[module_class]\n\u001B[1;32m--> 515\u001B[0m     module \u001B[38;5;241m=\u001B[39m module_class(filepath, prefix, user_api, internal_api)\n\u001B[0;32m    516\u001B[0m     \u001B[38;5;28mself\u001B[39m\u001B[38;5;241m.\u001B[39mmodules\u001B[38;5;241m.\u001B[39mappend(module)\n",
      "File \u001B[1;32m~\\anaconda3\\Lib\\site-packages\\threadpoolctl.py:606\u001B[0m, in \u001B[0;36m_Module.__init__\u001B[1;34m(self, filepath, prefix, user_api, internal_api)\u001B[0m\n\u001B[0;32m    604\u001B[0m \u001B[38;5;28mself\u001B[39m\u001B[38;5;241m.\u001B[39minternal_api \u001B[38;5;241m=\u001B[39m internal_api\n\u001B[0;32m    605\u001B[0m \u001B[38;5;28mself\u001B[39m\u001B[38;5;241m.\u001B[39m_dynlib \u001B[38;5;241m=\u001B[39m ctypes\u001B[38;5;241m.\u001B[39mCDLL(filepath, mode\u001B[38;5;241m=\u001B[39m_RTLD_NOLOAD)\n\u001B[1;32m--> 606\u001B[0m \u001B[38;5;28mself\u001B[39m\u001B[38;5;241m.\u001B[39mversion \u001B[38;5;241m=\u001B[39m \u001B[38;5;28mself\u001B[39m\u001B[38;5;241m.\u001B[39mget_version()\n\u001B[0;32m    607\u001B[0m \u001B[38;5;28mself\u001B[39m\u001B[38;5;241m.\u001B[39mnum_threads \u001B[38;5;241m=\u001B[39m \u001B[38;5;28mself\u001B[39m\u001B[38;5;241m.\u001B[39mget_num_threads()\n\u001B[0;32m    608\u001B[0m \u001B[38;5;28mself\u001B[39m\u001B[38;5;241m.\u001B[39m_get_extra_info()\n",
      "File \u001B[1;32m~\\anaconda3\\Lib\\site-packages\\threadpoolctl.py:646\u001B[0m, in \u001B[0;36m_OpenBLASModule.get_version\u001B[1;34m(self)\u001B[0m\n\u001B[0;32m    643\u001B[0m get_config \u001B[38;5;241m=\u001B[39m \u001B[38;5;28mgetattr\u001B[39m(\u001B[38;5;28mself\u001B[39m\u001B[38;5;241m.\u001B[39m_dynlib, \u001B[38;5;124m\"\u001B[39m\u001B[38;5;124mopenblas_get_config\u001B[39m\u001B[38;5;124m\"\u001B[39m,\n\u001B[0;32m    644\u001B[0m                      \u001B[38;5;28;01mlambda\u001B[39;00m: \u001B[38;5;28;01mNone\u001B[39;00m)\n\u001B[0;32m    645\u001B[0m get_config\u001B[38;5;241m.\u001B[39mrestype \u001B[38;5;241m=\u001B[39m ctypes\u001B[38;5;241m.\u001B[39mc_char_p\n\u001B[1;32m--> 646\u001B[0m config \u001B[38;5;241m=\u001B[39m get_config()\u001B[38;5;241m.\u001B[39msplit()\n\u001B[0;32m    647\u001B[0m \u001B[38;5;28;01mif\u001B[39;00m config[\u001B[38;5;241m0\u001B[39m] \u001B[38;5;241m==\u001B[39m \u001B[38;5;124mb\u001B[39m\u001B[38;5;124m\"\u001B[39m\u001B[38;5;124mOpenBLAS\u001B[39m\u001B[38;5;124m\"\u001B[39m:\n\u001B[0;32m    648\u001B[0m     \u001B[38;5;28;01mreturn\u001B[39;00m config[\u001B[38;5;241m1\u001B[39m]\u001B[38;5;241m.\u001B[39mdecode(\u001B[38;5;124m\"\u001B[39m\u001B[38;5;124mutf-8\u001B[39m\u001B[38;5;124m\"\u001B[39m)\n",
      "\u001B[1;31mAttributeError\u001B[0m: 'NoneType' object has no attribute 'split'"
     ]
    }
   ],
   "execution_count": 53
  },
  {
   "metadata": {},
   "cell_type": "code",
   "outputs": [],
   "execution_count": null,
   "source": [
    "# Trực quan hóa dữ liệu đã được giảm chiều\n",
    "plt.scatter(embedded_data[:,0], embedded_data[:,1])\n",
    "plt.title(\"T-SNE Visualization\")\n",
    "plt.show()"
   ]
  }
 ],
 "metadata": {
  "kernelspec": {
   "display_name": "d2l",
   "language": "python",
   "name": "python3"
  },
  "language_info": {
   "codemirror_mode": {
    "name": "ipython",
    "version": 3
   },
   "file_extension": ".py",
   "mimetype": "text/x-python",
   "name": "python",
   "nbconvert_exporter": "python",
   "pygments_lexer": "ipython3",
   "version": "3.9.19"
  }
 },
 "nbformat": 4,
 "nbformat_minor": 2
}
