{
 "cells": [
  {
   "cell_type": "code",
   "id": "initial_id",
   "metadata": {
    "collapsed": true,
    "ExecuteTime": {
     "end_time": "2024-05-14T15:27:26.811907Z",
     "start_time": "2024-05-14T15:27:25.658834Z"
    }
   },
   "source": [
    "import numpy as np\n",
    "import scipy.io as sio"
   ],
   "outputs": [],
   "execution_count": 2
  },
  {
   "metadata": {
    "ExecuteTime": {
     "end_time": "2024-05-14T15:29:56.402741Z",
     "start_time": "2024-05-14T15:29:56.389744Z"
    }
   },
   "cell_type": "code",
   "source": [
    "data_test = sio.loadmat('PIR_DATASET/testing_data/sc1.mat')\n",
    "data_train = sio.loadmat('PIR_DATASET/training_data/training_data_LR.mat')"
   ],
   "id": "3da2bb5a93d4f9cb",
   "outputs": [],
   "execution_count": 8
  },
  {
   "metadata": {
    "ExecuteTime": {
     "end_time": "2024-05-14T15:38:18.518415Z",
     "start_time": "2024-05-14T15:38:18.513381Z"
    }
   },
   "cell_type": "code",
   "source": [
    "print('Size dữ liệu test :',data_test['testing_data'][0][0].shape)\n",
    "print('Size vị trí test :',data_test['testing_data'][0][1].shape)\n",
    "print('#####')\n",
    "print('Size dữ liệu train :',data_train['profile_data'][0][0].shape)\n",
    "print('Size vị trí train :',data_train['profile_data'][0][1].shape)\n"
   ],
   "id": "13d93542549879f3",
   "outputs": [
    {
     "name": "stdout",
     "output_type": "stream",
     "text": [
      "Size dữ liệu test : (5, 2073)\n",
      "Size vị trí test : (1, 2073)\n",
      "#####\n",
      "Size dữ liệu train : (5, 306, 30)\n",
      "Size vị trí train : (1, 306, 30)\n"
     ]
    }
   ],
   "execution_count": 34
  },
  {
   "metadata": {
    "ExecuteTime": {
     "end_time": "2024-05-14T16:22:45.520916Z",
     "start_time": "2024-05-14T16:22:45.507978Z"
    }
   },
   "cell_type": "code",
   "source": "data_test['testing_data'][0][0][2]",
   "id": "4dd1fe8e7c4787aa",
   "outputs": [
    {
     "data": {
      "text/plain": [
       "array([2.06, 2.05, 2.04, ..., 2.05, 2.05, 2.07])"
      ]
     },
     "execution_count": 41,
     "metadata": {},
     "output_type": "execute_result"
    }
   ],
   "execution_count": 41
  },
  {
   "metadata": {},
   "cell_type": "code",
   "outputs": [],
   "execution_count": null,
   "source": "",
   "id": "ca377ecc8b5bfe7f"
  }
 ],
 "metadata": {
  "kernelspec": {
   "display_name": "Python 3",
   "language": "python",
   "name": "python3"
  },
  "language_info": {
   "codemirror_mode": {
    "name": "ipython",
    "version": 2
   },
   "file_extension": ".py",
   "mimetype": "text/x-python",
   "name": "python",
   "nbconvert_exporter": "python",
   "pygments_lexer": "ipython2",
   "version": "2.7.6"
  }
 },
 "nbformat": 4,
 "nbformat_minor": 5
}
