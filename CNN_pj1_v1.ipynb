{
 "cells": [
  {
   "cell_type": "code",
   "id": "initial_id",
   "metadata": {
    "collapsed": true,
    "ExecuteTime": {
     "end_time": "2024-05-14T15:21:30.519950Z",
     "start_time": "2024-05-14T15:21:28.262985Z"
    }
   },
   "source": [
    "import torch\n",
    "import torch.nn as nn\n",
    "import torch.optim as optim\n",
    "import pandas as pd\n",
    "import torch.utils.data as data\n"
   ],
   "outputs": [],
   "execution_count": 1
  },
  {
   "metadata": {
    "ExecuteTime": {
     "end_time": "2024-05-14T15:21:31.620834Z",
     "start_time": "2024-05-14T15:21:30.521962Z"
    }
   },
   "cell_type": "code",
   "source": "device = torch.device(\"cuda\" if torch.cuda.is_available() else \"cpu\")",
   "id": "10857a89e93b5c42",
   "outputs": [],
   "execution_count": 2
  },
  {
   "metadata": {},
   "cell_type": "markdown",
   "source": "### Lấy dữ liệu và kiểm tra",
   "id": "7d813eb4456c9ce0"
  },
  {
   "metadata": {
    "ExecuteTime": {
     "end_time": "2024-05-14T15:21:36.578367Z",
     "start_time": "2024-05-14T15:21:31.621806Z"
    }
   },
   "cell_type": "code",
   "source": [
    "import ast\n",
    "# Đọc dữ liệu từ file CSV\n",
    "df = pd.read_csv('data_training.csv')\n",
    "    \n",
    "# Chọn các cột 'x1', 'x2', 'x3', 'x4', 'x5' làm đầu vào và 'y' làm đầu ra\n",
    "x_data = df[['x1', 'x2', 'x3', 'x4', 'x5']]\n",
    "y_data = df['y']\n",
    "\n",
    "# Khởi tạo danh sách để lưu trữ dữ liệu đầu vào dưới dạng tensors\n",
    "x_train = []\n",
    "\n",
    "# Lặp qua từng hàng trong x_data\n",
    "for index in range(len(x_data)):\n",
    "    # Lấy hàng thứ index từ DataFrame\n",
    "    row = x_data.iloc[index]\n",
    "    # Chuyển đổi từng giá trị trong hàng thành list\n",
    "    x_values = [ast.literal_eval(val) for val in row.values]\n",
    "    # Thêm tensor tương ứng vào danh sách x_train\n",
    "    x_train.append(torch.tensor(x_values, dtype=torch.float32))\n",
    "\n",
    "# Chuyển đổi dữ liệu đầu ra thành tensor PyTorch\n",
    "y_train = torch.tensor(y_data.values, dtype=torch.long).to(device)\n",
    "\n",
    "# Tạo tensor từ danh sách các tensors đầu vào\n",
    "X_train = torch.stack(x_train).to(device)\n",
    "\n",
    "# In ra kích thước của tensors đầu vào và đầu ra\n",
    "print(\"x_train:\", X_train.shape)\n",
    "print(\"y_train:\", y_train.shape)"
   ],
   "id": "fbe6b0ddac4562c9",
   "outputs": [
    {
     "name": "stdout",
     "output_type": "stream",
     "text": [
      "x_train: torch.Size([26846, 5, 10])\n",
      "y_train: torch.Size([26846])\n"
     ]
    }
   ],
   "execution_count": 3
  },
  {
   "metadata": {},
   "cell_type": "markdown",
   "source": "### Định nghĩa các biến và tạo tập train và test",
   "id": "906ebff0573efd1e"
  },
  {
   "metadata": {
    "ExecuteTime": {
     "end_time": "2024-05-14T15:21:36.582688Z",
     "start_time": "2024-05-14T15:21:36.579374Z"
    }
   },
   "cell_type": "code",
   "source": [
    "batch_size = 32\n",
    "length = 10\n",
    "num_labels = 36\n",
    "num_sensors = 5"
   ],
   "id": "7e3a0a0842e859dd",
   "outputs": [],
   "execution_count": 4
  },
  {
   "metadata": {
    "ExecuteTime": {
     "end_time": "2024-05-14T15:21:36.591565Z",
     "start_time": "2024-05-14T15:21:36.584695Z"
    }
   },
   "cell_type": "code",
   "source": [
    "# Tổng số mẫu\n",
    "total_samples = len(X_train)\n",
    "\n",
    "# Trích 80% cho tập train, 20% cho tập test\n",
    "train_size = int(0.8 * total_samples)\n",
    "test_size = total_samples - train_size\n",
    "\n",
    "# Chia dữ liệu thành tập tran và test\n",
    "train_dataset, test_dataset = data.random_split(torch.utils.data.TensorDataset(X_train, y_train),\n",
    "                                                [train_size, test_size])\n",
    "\n",
    "# Khởi tạo DataLoader\n",
    "train_loader = torch.utils.data.DataLoader(train_dataset, batch_size=batch_size, shuffle=True)\n",
    "test_loader = torch.utils.data.DataLoader(test_dataset, batch_size=batch_size, shuffle=False)"
   ],
   "id": "e041948e8ae029a7",
   "outputs": [],
   "execution_count": 5
  },
  {
   "metadata": {},
   "cell_type": "markdown",
   "source": "### Định nghĩa các mô hình",
   "id": "d84c5de019f51c65"
  },
  {
   "metadata": {
    "ExecuteTime": {
     "end_time": "2024-05-14T15:21:36.601893Z",
     "start_time": "2024-05-14T15:21:36.592575Z"
    }
   },
   "cell_type": "code",
   "source": [
    "# Định nghĩa mô hình CNN 1D\n",
    "class CNN1D(nn.Module):\n",
    "    def __init__(self, num_sensors, num_labels, length):\n",
    "        super(CNN1D, self).__init__()\n",
    "        self.conv1 = nn.Conv1d(in_channels=num_sensors, out_channels=128, kernel_size=3, padding=1)\n",
    "        self.conv2 = nn.Conv1d(in_channels=128, out_channels=256, kernel_size=3, padding=1)\n",
    "        self.conv3 = nn.Conv1d(in_channels=256, out_channels=512, kernel_size=3, padding=1)\n",
    "        self.conv4 = nn.Conv1d(in_channels=512, out_channels=512, kernel_size=3, padding=1)\n",
    "        self.conv5 = nn.Conv1d(in_channels=512, out_channels=1024, kernel_size=3, padding=1)\n",
    "        self.batch_norm1 = nn.BatchNorm1d(128)\n",
    "        self.batch_norm2 = nn.BatchNorm1d(256)\n",
    "        self.batch_norm3 = nn.BatchNorm1d(512)\n",
    "        self.batch_norm4 = nn.BatchNorm1d(512)\n",
    "        self.batch_norm5 = nn.BatchNorm1d(1024)\n",
    "        self.maxpool = nn.MaxPool1d(kernel_size=2, stride=1)\n",
    "        self.fc1 = nn.Linear(512 * length, 512)\n",
    "        self.fc2 = nn.Linear(512, num_labels)\n",
    "        self.relu = nn.ReLU()\n",
    "        self.dropout = nn.Dropout(0.3)\n",
    "\n",
    "    def forward(self, x):\n",
    "        x = self.relu(self.batch_norm1(self.conv1(x)))\n",
    "        x = self.maxpool(x)\n",
    "        x = self.relu(self.batch_norm2(self.conv2(x)))\n",
    "        x = self.maxpool(x)\n",
    "        x = self.relu(self.batch_norm3(self.conv3(x)))\n",
    "        x = self.maxpool(x)\n",
    "        x = self.relu(self.batch_norm4(self.conv4(x)))\n",
    "        x = self.maxpool(x)\n",
    "        x = self.relu(self.batch_norm5(self.conv5(x)))\n",
    "        x = self.maxpool(x)\n",
    "        x = x.view(x.size(0), -1)\n",
    "        x = self.dropout(self.relu(self.fc1(x)))\n",
    "        x = self.fc2(x)\n",
    "        return x"
   ],
   "id": "cee7591a551827c4",
   "outputs": [],
   "execution_count": 6
  },
  {
   "metadata": {},
   "cell_type": "markdown",
   "source": "### Huấn luyện mô hình",
   "id": "eba95eda1d8a3064"
  },
  {
   "metadata": {
    "ExecuteTime": {
     "end_time": "2024-05-14T15:21:36.607760Z",
     "start_time": "2024-05-14T15:21:36.603901Z"
    }
   },
   "cell_type": "code",
   "source": [
    "num_epochs = 100\n",
    "learning_rate = 0.001"
   ],
   "id": "238cfff2f3862806",
   "outputs": [],
   "execution_count": 7
  },
  {
   "metadata": {
    "ExecuteTime": {
     "end_time": "2024-05-14T15:21:37.499066Z",
     "start_time": "2024-05-14T15:21:36.608765Z"
    }
   },
   "cell_type": "code",
   "source": [
    "# Khởi tạo mô hình, hàm mất mát và bộ tối ưu\n",
    "model = CNN1D(num_sensors=num_sensors, num_labels=num_labels, length=length).to(device)\n",
    "error = nn.CrossEntropyLoss()\n",
    "optimizer = optim.Adam(model.parameters(), lr=learning_rate)\n",
    "\n",
    "#model = CNN1D(num_sensors=num_sensors, num_labels=num_labels, length=length).to(device)# 7,Create CNN\n",
    "#error = nn.CrossEntropyLoss()#8, Cross Entropy Loss \n",
    "#optimizer = optim.SGD(model.parameters(), lr=learning_rate, weight_decay=0.001)"
   ],
   "id": "c361833f82673333",
   "outputs": [],
   "execution_count": 8
  },
  {
   "metadata": {
    "ExecuteTime": {
     "end_time": "2024-05-14T15:21:37.505969Z",
     "start_time": "2024-05-14T15:21:37.500463Z"
    }
   },
   "cell_type": "code",
   "source": [
    "# Danh sách các nhãn\n",
    "label_dict = {'11': 0, '12': 1, '13': 2, '14': 3, '21': 4, '22': 5, '23': 6, '24': 7, '31': 8, '32': 9, '33': 10, '34': 11, '41': 12, '42': 13, '43': 14, '44': 15, '51': 16, '52': 17, '53': 18, '54': 19, '61': 20, '62': 21, '63': 22, '64': 23, '71': 24, '72': 25, '73': 26, '74': 27, '81': 28, '82': 29, '83': 30, '84': 31, '91': 32, '92': 33, '93': 34, '94': 35}\n",
    "\n",
    "# Hàm chuyển đổi nhãn\n",
    "def label_to_index(labels):\n",
    "    # Chuyển đổi tensor labels về list\n",
    "    labels_list = [str(label.item()) for label in labels]\n",
    "    return torch.tensor([label_dict[label] for label in labels_list])"
   ],
   "id": "104eb2ef869b1f61",
   "outputs": [],
   "execution_count": 9
  },
  {
   "metadata": {
    "ExecuteTime": {
     "end_time": "2024-05-14T15:21:37.565926Z",
     "start_time": "2024-05-14T15:21:37.506975Z"
    }
   },
   "cell_type": "code",
   "source": [
    "import os\n",
    "\n",
    "# Kiểm tra xem file checkpoint đã tồn tại hay chưa\n",
    "if os.path.exists('training_checkpoint.pth'):\n",
    "    # Nếu có, tiếp tục từ checkpoint\n",
    "    checkpoint = torch.load('training_checkpoint.pth')\n",
    "    model.load_state_dict(checkpoint['model_state_dict'])\n",
    "    optimizer.load_state_dict(checkpoint['optimizer_state_dict'])\n",
    "    start_epoch = checkpoint['epoch'] + 1\n",
    "    loss_values = checkpoint['loss_values']\n",
    "    print(\"Đã tìm thấy checkpoint, tiếp tục huấn luyện từ epoch\", start_epoch)\n",
    "else:\n",
    "    # Nếu không, bắt đầu huấn luyện từ đầu\n",
    "    start_epoch = 0\n",
    "    loss_values = []\n",
    "\n",
    "for epoch in range(start_epoch, num_epochs):\n",
    "    model.train()  # Đặt mô hình ở chế độ huấn luyện\n",
    "    running_loss = 0.0\n",
    "    for inputs, labels in train_loader:\n",
    "        optimizer.zero_grad()\n",
    "        labels = label_to_index(labels).to(device)\n",
    "        outputs = model(inputs)\n",
    "        loss = error(outputs, labels)  #Tính toán hàm tổn thất (loss function)\n",
    "        loss.backward()  #Chuyền ngược\n",
    "        optimizer.step()  # Cập nhật trọng số\n",
    "\n",
    "        running_loss += loss.item() * inputs.size(0)\n",
    "\n",
    "    epoch_loss = running_loss / len(train_loader.dataset)\n",
    "    loss_values.append(epoch_loss)\n",
    "    print(f\"Epoch [{epoch + 1}/{num_epochs}], Train Loss: {epoch_loss:.4f}\")\n",
    "    \n",
    "        # Lưu checkpoint sau mỗi epoch\n",
    "    torch.save({\n",
    "       'epoch': epoch,\n",
    "       'model_state_dict': model.state_dict(),\n",
    "       'optimizer_state_dict': optimizer.state_dict(),\n",
    "       'loss_values': loss_values\n",
    "   }, 'training_checkpoint.pth')\n"
   ],
   "id": "951cd544f8eb91f7",
   "outputs": [
    {
     "name": "stdout",
     "output_type": "stream",
     "text": [
      "Đã tìm thấy checkpoint, tiếp tục huấn luyện từ epoch 100\n"
     ]
    }
   ],
   "execution_count": 10
  },
  {
   "metadata": {
    "ExecuteTime": {
     "end_time": "2024-05-14T15:21:38.007695Z",
     "start_time": "2024-05-14T15:21:37.566933Z"
    }
   },
   "cell_type": "code",
   "source": [
    "import matplotlib.pyplot as plt\n",
    "# Đồ thị Loss\n",
    "plt.plot(loss_values)\n",
    "plt.xlabel('Epoch')\n",
    "plt.ylabel('Loss')\n",
    "plt.title('Training Loss Over Epochs')\n",
    "plt.show()"
   ],
   "id": "f010ba6840b004ec",
   "outputs": [
    {
     "data": {
      "text/plain": [
       "<Figure size 640x480 with 1 Axes>"
      ],
      "image/png": "[encoded data removed]"
     },
     "metadata": {},
     "output_type": "display_data"
    }
   ],
   "execution_count": 11
  },
  {
   "metadata": {},
   "cell_type": "markdown",
   "source": "### Đánh giá mô hình sau huấn luyện",
   "id": "259e8a7bd59b5281"
  },
  {
   "metadata": {
    "ExecuteTime": {
     "end_time": "2024-05-14T15:21:51.438979Z",
     "start_time": "2024-05-14T15:21:38.008702Z"
    }
   },
   "cell_type": "code",
   "source": [
    "    val_loader = torch.utils.data.DataLoader(test_dataset, batch_size=1, shuffle=True)\n",
    "\n",
    "    model.eval()\n",
    "    val_loss = 0.0\n",
    "    correct = 0\n",
    "    total = 0\n",
    "    \n",
    "    with torch.no_grad():\n",
    "        for inputs, labels in val_loader:\n",
    "            inputs = inputs.to(device)\n",
    "            labels = label_to_index(labels).to(device)\n",
    "            \n",
    "            outputs = model(inputs)\n",
    "            loss = error(outputs, labels)\n",
    "            val_loss += loss.item() * inputs.size(0)\n",
    "            \n",
    "            _, predicted = torch.max(outputs, 1)\n",
    "            total += labels.size(0)\n",
    "            correct += (predicted == labels).sum().item()\n",
    "\n",
    "    val_loss /= len(val_loader.dataset)\n",
    "    val_acc = correct / total\n",
    "    print(f\"Validation Loss: {val_loss:.4f}, Validation Accuracy: {val_acc:.4f}\")"
   ],
   "id": "4c921459ef17607c",
   "outputs": [
    {
     "name": "stdout",
     "output_type": "stream",
     "text": [
      "Validation Loss: 0.0278, Validation Accuracy: 0.9976\n"
     ]
    }
   ],
   "execution_count": 12
  },
  {
   "metadata": {
    "ExecuteTime": {
     "end_time": "2024-05-14T15:21:51.454723Z",
     "start_time": "2024-05-14T15:21:51.439986Z"
    }
   },
   "cell_type": "code",
   "source": [
    "import random\n",
    "# Lấy một mẫu ngẫu nhiên\n",
    "model.eval()  # Đặt mô hình vào chế độ đánh giá\n",
    "with torch.no_grad():\n",
    "    for inputs, labels in val_loader:\n",
    "        inputs = inputs.to(device)\n",
    "        labels = label_to_index(labels).to(device)\n",
    "        \n",
    "        outputs = model(inputs)\n",
    "        _, predicted = torch.max(outputs, 1)\n",
    "        \n",
    "        print(f\"True Label: {labels.item()}, Predicted Label: {predicted.item()}\")\n",
    "        break  # Chỉ lấy một mẫu\n",
    "\n",
    "    # Lấy mẫu ngẫu nhiên từ toàn bộ tập dữ liệu\n",
    "    random_index = random.randint(0, len(test_dataset) - 1)\n",
    "    random_sample, random_label = test_dataset[random_index]\n",
    "    random_sample = random_sample.unsqueeze(0).to(device)  # Thêm một chiều batch và chuyển sang device\n",
    "    random_label = label_to_index([random_label]).to(device)\n",
    "\n",
    "    random_output = model(random_sample)\n",
    "    _, random_predicted = torch.max(random_output, 1)\n",
    "\n",
    "    print(f\"Random Sample - True Label: {random_label.item()}, Predicted Label: {random_predicted.item()}\")"
   ],
   "id": "73ebbd678a52ff63",
   "outputs": [
    {
     "name": "stdout",
     "output_type": "stream",
     "text": [
      "True Label: 4, Predicted Label: 4\n",
      "Random Sample - True Label: 31, Predicted Label: 31\n"
     ]
    }
   ],
   "execution_count": 13
  },
  {
   "metadata": {},
   "cell_type": "markdown",
   "source": "### Đánh giá mô hình ở tập testing_data",
   "id": "4a9ebb7f8b068655"
  },
  {
   "metadata": {},
   "cell_type": "code",
   "outputs": [],
   "execution_count": null,
   "source": "",
   "id": "636b8c6c79ad5282"
  }
 ],
 "metadata": {
  "kernelspec": {
   "display_name": "Python 3",
   "language": "python",
   "name": "python3"
  },
  "language_info": {
   "codemirror_mode": {
    "name": "ipython",
    "version": 2
   },
   "file_extension": ".py",
   "mimetype": "text/x-python",
   "name": "python",
   "nbconvert_exporter": "python",
   "pygments_lexer": "ipython2",
   "version": "2.7.6"
  }
 },
 "nbformat": 4,
 "nbformat_minor": 5
}
